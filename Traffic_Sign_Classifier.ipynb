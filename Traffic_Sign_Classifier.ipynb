{
 "cells": [
  {
   "cell_type": "markdown",
   "metadata": {
    "deletable": true,
    "editable": true
   },
   "source": [
    "# Self-Driving Car Engineer Nanodegree\n",
    "\n",
    "## Deep Learning\n",
    "\n",
    "## Project: Build a Traffic Sign Recognition Classifier\n",
    "\n",
    "In this notebook, a template is provided for you to implement your functionality in stages, which is required to successfully complete this project. If additional code is required that cannot be included in the notebook, be sure that the Python code is successfully imported and included in your submission if necessary. \n",
    "\n",
    "> **Note**: Once you have completed all of the code implementations, you need to finalize your work by exporting the iPython Notebook as an HTML document. Before exporting the notebook to html, all of the code cells need to have been run so that reviewers can see the final implementation and output. You can then export the notebook by using the menu above and navigating to  \\n\",\n",
    "    \"**File -> Download as -> HTML (.html)**. Include the finished document along with this notebook as your submission. \n",
    "\n",
    "In addition to implementing code, there is a writeup to complete. The writeup should be completed in a separate file, which can be either a markdown file or a pdf document. There is a [write up template](https://github.com/udacity/CarND-Traffic-Sign-Classifier-Project/blob/master/writeup_template.md) that can be used to guide the writing process. Completing the code template and writeup template will cover all of the [rubric points](https://review.udacity.com/#!/rubrics/481/view) for this project.\n",
    "\n",
    "The [rubric](https://review.udacity.com/#!/rubrics/481/view) contains \"Stand Out Suggestions\" for enhancing the project beyond the minimum requirements. The stand out suggestions are optional. If you decide to pursue the \"stand out suggestions\", you can include the code in this Ipython notebook and also discuss the results in the writeup file.\n",
    "\n",
    "\n",
    ">**Note:** Code and Markdown cells can be executed using the **Shift + Enter** keyboard shortcut. In addition, Markdown cells can be edited by typically double-clicking the cell to enter edit mode."
   ]
  },
  {
   "cell_type": "markdown",
   "metadata": {
    "deletable": true,
    "editable": true
   },
   "source": [
    "---\n",
    "## Step 0: Load The Data"
   ]
  },
  {
   "cell_type": "code",
   "execution_count": 125,
   "metadata": {
    "collapsed": true
   },
   "outputs": [],
   "source": [
    "%matplotlib inline\n",
    "import pandas as pd\n",
    "import numpy as np\n",
    "import tensorflow as tf\n",
    "from collections import Counter, namedtuple\n"
   ]
  },
  {
   "cell_type": "code",
   "execution_count": 126,
   "metadata": {
    "collapsed": false,
    "deletable": true,
    "editable": true
   },
   "outputs": [],
   "source": [
    "# Load pickled data\n",
    "import pickle\n",
    "\n",
    "# TODO: Fill this in based on where you saved the training and testing data\n",
    "\n",
    "training_file = './data/train.p'\n",
    "validation_file= './data/valid.p'\n",
    "testing_file = './data/test.p'\n",
    "\n",
    "with open(training_file, mode='rb') as f:\n",
    "    train = pickle.load(f)\n",
    "with open(validation_file, mode='rb') as f:\n",
    "    valid = pickle.load(f)\n",
    "with open(testing_file, mode='rb') as f:\n",
    "    test = pickle.load(f)\n",
    "    \n",
    "X_train, y_train = train['features'], train['labels']\n",
    "X_valid, y_valid = valid['features'], valid['labels']\n",
    "X_test, y_test = test['features'], test['labels']"
   ]
  },
  {
   "cell_type": "markdown",
   "metadata": {
    "deletable": true,
    "editable": true
   },
   "source": [
    "---\n",
    "\n",
    "## Step 1: Dataset Summary & Exploration\n",
    "\n",
    "The pickled data is a dictionary with 4 key/value pairs:\n",
    "\n",
    "- `'features'` is a 4D array containing raw pixel data of the traffic sign images, (num examples, width, height, channels).\n",
    "- `'labels'` is a 1D array containing the label/class id of the traffic sign. The file `signnames.csv` contains id -> name mappings for each id.\n",
    "- `'sizes'` is a list containing tuples, (width, height) representing the original width and height the image.\n",
    "- `'coords'` is a list containing tuples, (x1, y1, x2, y2) representing coordinates of a bounding box around the sign in the image. **THESE COORDINATES ASSUME THE ORIGINAL IMAGE. THE PICKLED DATA CONTAINS RESIZED VERSIONS (32 by 32) OF THESE IMAGES**\n",
    "\n",
    "Complete the basic data summary below. Use python, numpy and/or pandas methods to calculate the data summary rather than hard coding the results. For example, the [pandas shape method](http://pandas.pydata.org/pandas-docs/stable/generated/pandas.DataFrame.shape.html) might be useful for calculating some of the summary results. "
   ]
  },
  {
   "cell_type": "markdown",
   "metadata": {
    "deletable": true,
    "editable": true
   },
   "source": [
    "### Provide a Basic Summary of the Data Set Using Python, Numpy and/or Pandas"
   ]
  },
  {
   "cell_type": "code",
   "execution_count": 127,
   "metadata": {
    "collapsed": false,
    "deletable": true,
    "editable": true
   },
   "outputs": [
    {
     "name": "stdout",
     "output_type": "stream",
     "text": [
      "Number of training examples = 34799\n",
      "Number of testing examples = 12630\n",
      "Image data shape = (32, 32, 3)\n",
      "Number of classes = 43\n"
     ]
    }
   ],
   "source": [
    "### Replace each question mark with the appropriate value. \n",
    "### Use python, pandas or numpy methods rather than hard coding the results\n",
    "\n",
    "# TODO: Number of training examples\n",
    "n_train = X_train.shape[0]\n",
    "\n",
    "# TODO: Number of validation examples\n",
    "n_validation = X_valid.shape[0]\n",
    "\n",
    "# TODO: Number of testing examples.\n",
    "n_test = X_test.shape[0]\n",
    "\n",
    "# TODO: What's the shape of an traffic sign image?\n",
    "image_shape = X_train[0].shape\n",
    "\n",
    "# TODO: How many unique classes/labels there are in the dataset.\n",
    "n_classes = len(set(y_train))\n",
    "\n",
    "print(\"Number of training examples =\", n_train)\n",
    "print(\"Number of testing examples =\", n_test)\n",
    "print(\"Image data shape =\", image_shape)\n",
    "print(\"Number of classes =\", n_classes)"
   ]
  },
  {
   "cell_type": "markdown",
   "metadata": {
    "deletable": true,
    "editable": true
   },
   "source": [
    "### Include an exploratory visualization of the dataset"
   ]
  },
  {
   "cell_type": "markdown",
   "metadata": {
    "deletable": true,
    "editable": true
   },
   "source": [
    "Visualize the German Traffic Signs Dataset using the pickled file(s). This is open ended, suggestions include: plotting traffic sign images, plotting the count of each sign, etc. \n",
    "\n",
    "The [Matplotlib](http://matplotlib.org/) [examples](http://matplotlib.org/examples/index.html) and [gallery](http://matplotlib.org/gallery.html) pages are a great resource for doing visualizations in Python.\n",
    "\n",
    "**NOTE:** It's recommended you start with something simple first. If you wish to do more, come back to it after you've completed the rest of the sections. It can be interesting to look at the distribution of classes in the training, validation and test set. Is the distribution the same? Are there more examples of some classes than others?"
   ]
  },
  {
   "cell_type": "code",
   "execution_count": 128,
   "metadata": {
    "collapsed": true,
    "deletable": true,
    "editable": true
   },
   "outputs": [],
   "source": [
    "### Data exploration visualization code goes here.\n",
    "### Feel free to use as many code cells as needed.\n",
    "import matplotlib.pyplot as plt\n",
    "# Visualizations will be shown in the notebook.\n",
    "%matplotlib inline"
   ]
  },
  {
   "cell_type": "markdown",
   "metadata": {},
   "source": [
    "#### Show randow images\n",
    "\n",
    "Display random images in the train dataset."
   ]
  },
  {
   "cell_type": "code",
   "execution_count": 129,
   "metadata": {
    "collapsed": false
   },
   "outputs": [
    {
     "data": {
      "image/png": "[encoded data removed]",
      "text/plain": [
       "<matplotlib.figure.Figure at 0x111b26080>"
      ]
     },
     "metadata": {},
     "output_type": "display_data"
    }
   ],
   "source": [
    "def show_images(data, nrows=4, ncols=4, preprocess=None):\n",
    "    \"\"\" Display images.\n",
    "    \n",
    "        Parameters\n",
    "        ----------\n",
    "        data: Array of images to display.\n",
    "        nrows: # of rows.\n",
    "        ncols: # of cols.\n",
    "    \"\"\"\n",
    "    \n",
    "    if preprocess is not None:\n",
    "        data = preprocess(data)\n",
    "    \n",
    "    for ii in range(nrows * ncols):\n",
    "        plt.subplot(nrows, ncols, ii + 1)\n",
    "        plt.imshow(data[ii])\n",
    "\n",
    "\n",
    "def show_random_images(data, nrows=4, ncols=4):\n",
    "    \"\"\" Display random images.\n",
    "    \n",
    "        Parameters\n",
    "        ----------\n",
    "        data: Array of images to display.\n",
    "        nrows: # of rows.\n",
    "        ncols: # of cols.\n",
    "    \"\"\"\n",
    "    \n",
    "    show_images(data[np.random.randint(0, len(data), nrows * ncols)])\n",
    "\n",
    "show_random_images(X_train)"
   ]
  },
  {
   "cell_type": "markdown",
   "metadata": {},
   "source": [
    "#### Histogram of labels\n",
    "\n",
    "Display the frequency of the different labels in the dataset."
   ]
  },
  {
   "cell_type": "code",
   "execution_count": 130,
   "metadata": {
    "collapsed": false
   },
   "outputs": [
    {
     "data": {
      "image/png": "[encoded data removed]",
      "text/plain": [
       "<matplotlib.figure.Figure at 0x12875d4e0>"
      ]
     },
     "metadata": {},
     "output_type": "display_data"
    }
   ],
   "source": [
    "plt.figure(2, figsize=(20, 5))\n",
    "c_train = Counter(y_train)\n",
    "c_valid = Counter(y_valid)\n",
    "c_test = Counter(y_test)\n",
    "plt.bar(list(c_train.keys()), list(c_train.values()), align='edge', width=-0.4, label='Train')\n",
    "plt.bar(list(c_test.keys()), list(c_test.values()), align='center', width=0.4, label='Test')\n",
    "plt.bar(list(c_valid.keys()), list(c_valid.values()), align='edge', width=0.4, label='Valid')\n",
    "plt.title('Frequency of labels')\n",
    "_ = plt.legend()"
   ]
  },
  {
   "cell_type": "markdown",
   "metadata": {
    "deletable": true,
    "editable": true
   },
   "source": [
    "----\n",
    "\n",
    "## Step 2: Design and Test a Model Architecture\n",
    "\n",
    "Design and implement a deep learning model that learns to recognize traffic signs. Train and test your model on the [German Traffic Sign Dataset](http://benchmark.ini.rub.de/?section=gtsrb&subsection=dataset).\n",
    "\n",
    "The LeNet-5 implementation shown in the [classroom](https://classroom.udacity.com/nanodegrees/nd013/parts/fbf77062-5703-404e-b60c-95b78b2f3f9e/modules/6df7ae49-c61c-4bb2-a23e-6527e69209ec/lessons/601ae704-1035-4287-8b11-e2c2716217ad/concepts/d4aca031-508f-4e0b-b493-e7b706120f81) at the end of the CNN lesson is a solid starting point. You'll have to change the number of classes and possibly the preprocessing, but aside from that it's plug and play! \n",
    "\n",
    "With the LeNet-5 solution from the lecture, you should expect a validation set accuracy of about 0.89. To meet specifications, the validation set accuracy will need to be at least 0.93. It is possible to get an even higher accuracy, but 0.93 is the minimum for a successful project submission. \n",
    "\n",
    "There are various aspects to consider when thinking about this problem:\n",
    "\n",
    "- Neural network architecture (is the network over or underfitting?)\n",
    "- Play around preprocessing techniques (normalization, rgb to grayscale, etc)\n",
    "- Number of examples per label (some have more than others).\n",
    "- Generate fake data.\n",
    "\n",
    "Here is an example of a [published baseline model on this problem](http://yann.lecun.com/exdb/publis/pdf/sermanet-ijcnn-11.pdf). It's not required to be familiar with the approach used in the paper but, it's good practice to try to read papers like these."
   ]
  },
  {
   "cell_type": "markdown",
   "metadata": {
    "deletable": true,
    "editable": true
   },
   "source": [
    "### Pre-process the Data Set (normalization, grayscale, etc.)"
   ]
  },
  {
   "cell_type": "markdown",
   "metadata": {
    "deletable": true,
    "editable": true
   },
   "source": [
    "Minimally, the image data should be normalized so that the data has mean zero and equal variance. For image data, `(pixel - 128)/ 128` is a quick way to approximately normalize the data and can be used in this project. \n",
    "\n",
    "Other pre-processing steps are optional. You can try different techniques to see if it improves performance. \n",
    "\n",
    "Use the code cell (or multiple code cells, if necessary) to implement the first step of your project."
   ]
  },
  {
   "cell_type": "code",
   "execution_count": 131,
   "metadata": {
    "collapsed": false,
    "deletable": true,
    "editable": true,
    "scrolled": true
   },
   "outputs": [],
   "source": [
    "### Preprocess the data here. It is required to normalize the data. Other preprocessing steps could include \n",
    "### converting to grayscale, etc.\n",
    "### Feel free to use as many code cells as needed.\n",
    "\n",
    "def preprocess_images(input):\n",
    "    out = input\n",
    "    out = (input - np.mean(input)) / np.std(input)    \n",
    "    return out\n"
   ]
  },
  {
   "cell_type": "markdown",
   "metadata": {
    "deletable": true,
    "editable": true
   },
   "source": [
    "### Model Architecture"
   ]
  },
  {
   "cell_type": "code",
   "execution_count": null,
   "metadata": {
    "collapsed": false,
    "deletable": true,
    "editable": true,
    "scrolled": false
   },
   "outputs": [
    {
     "name": "stdout",
     "output_type": "stream",
     "text": [
      "3.77603 0.015625\n",
      "3.76409 0.015625\n",
      "3.72643 0.0625\n",
      "3.60539 0.078125\n",
      "3.97895 0.03125\n",
      "3.71731 0.0625\n",
      "3.66494 0.140625\n",
      "3.71338 0.0625\n",
      "3.69475 0.125\n",
      "3.68153 0.109375\n",
      "3.70423 0.046875\n",
      "3.65665 0.109375\n",
      "3.64755 0.125\n",
      "3.71247 0.0625\n",
      "3.65598 0.078125\n",
      "3.72077 0.046875\n",
      "3.70723 0.078125\n",
      "3.67632 0.109375\n",
      "3.67358 0.109375\n",
      "3.75878 0.03125\n",
      "3.52776 0.140625\n",
      "3.63801 0.0625\n",
      "3.58773 0.09375\n",
      "3.71441 0.0625\n",
      "3.71658 0.046875\n",
      "3.6302 0.0625\n",
      "3.6491 0.078125\n",
      "3.59874 0.0625\n",
      "3.6507 0.109375\n",
      "3.57467 0.0625\n",
      "3.60061 0.109375\n",
      "3.56372 0.078125\n",
      "3.65813 0.0625\n",
      "3.37361 0.109375\n",
      "3.37015 0.140625\n",
      "3.55643 0.078125\n",
      "3.66076 0.09375\n",
      "3.60674 0.125\n",
      "3.42809 0.125\n",
      "3.63716 0.09375\n",
      "3.64894 0.046875\n",
      "3.40705 0.15625\n",
      "3.61533 0.078125\n",
      "3.3951 0.09375\n",
      "3.48689 0.125\n",
      "3.80664 0.03125\n",
      "3.49522 0.109375\n",
      "3.49582 0.09375\n",
      "3.44693 0.140625\n",
      "3.46773 0.140625\n",
      "3.64032 0.0625\n",
      "3.47717 0.15625\n",
      "3.54779 0.09375\n",
      "3.49066 0.078125\n",
      "3.66478 0.046875\n",
      "3.34958 0.109375\n",
      "3.42203 0.109375\n",
      "3.54918 0.015625\n",
      "3.52524 0.140625\n",
      "3.35479 0.125\n",
      "3.54541 0.140625\n",
      "3.48682 0.171875\n",
      "3.57192 0.140625\n",
      "3.43307 0.078125\n",
      "3.45465 0.109375\n",
      "3.6024 0.046875\n",
      "3.48892 0.109375\n",
      "3.37526 0.140625\n",
      "3.56494 0.0625\n",
      "3.3698 0.125\n",
      "3.38169 0.15625\n",
      "3.45342 0.1875\n",
      "3.45133 0.09375\n",
      "3.38415 0.09375\n",
      "3.43907 0.0625\n",
      "3.57819 0.078125\n",
      "3.57197 0.125\n",
      "3.35408 0.140625\n",
      "3.38072 0.140625\n",
      "3.48415 0.0625\n",
      "3.17904 0.140625\n",
      "3.46801 0.0625\n",
      "3.30551 0.125\n",
      "3.28307 0.171875\n",
      "3.27053 0.21875\n",
      "2.93563 0.234375\n",
      "3.46736 0.125\n",
      "3.30892 0.1875\n",
      "3.26149 0.203125\n",
      "3.07738 0.21875\n",
      "3.38058 0.21875\n",
      "3.27772 0.15625\n",
      "3.23781 0.21875\n",
      "3.50742 0.109375\n",
      "3.41889 0.125\n",
      "3.28948 0.234375\n",
      "3.20382 0.234375\n",
      "3.0507 0.171875\n",
      "3.34143 0.140625\n",
      "2.98639 0.265625\n",
      "3.2355 0.15625\n",
      "2.9071 0.203125\n",
      "2.85765 0.296875\n",
      "3.27576 0.1875\n",
      "2.92109 0.265625\n",
      "3.01085 0.1875\n",
      "2.81189 0.25\n",
      "2.94785 0.234375\n",
      "3.07125 0.296875\n",
      "2.9254 0.265625\n",
      "3.1933 0.171875\n",
      "3.19718 0.203125\n",
      "2.96557 0.21875\n",
      "3.08843 0.234375\n",
      "2.9226 0.25\n",
      "3.11919 0.234375\n",
      "3.08795 0.234375\n",
      "2.77666 0.28125\n",
      "3.02292 0.265625\n",
      "3.00298 0.234375\n",
      "2.91275 0.25\n",
      "3.17157 0.21875\n",
      "2.78221 0.296875\n",
      "3.00778 0.265625\n",
      "2.84585 0.25\n",
      "2.81994 0.1875\n",
      "2.67795 0.265625\n",
      "2.76938 0.28125\n",
      "2.98097 0.265625\n",
      "3.33602 0.125\n",
      "2.78211 0.265625\n",
      "3.05969 0.234375\n",
      "2.86453 0.3125\n",
      "3.15253 0.203125\n",
      "2.8328 0.265625\n",
      "3.00931 0.203125\n",
      "2.84492 0.265625\n",
      "2.97139 0.15625\n",
      "2.54338 0.328125\n",
      "2.98107 0.25\n",
      "2.32549 0.375\n",
      "2.83118 0.28125\n",
      "2.89089 0.28125\n",
      "2.96737 0.21875\n",
      "2.94471 0.21875\n",
      "2.93765 0.21875\n",
      "2.85447 0.296875\n",
      "2.91196 0.28125\n",
      "2.84929 0.265625\n",
      "2.87445 0.234375\n",
      "2.60953 0.375\n",
      "3.20783 0.15625\n",
      "2.80364 0.265625\n",
      "2.79832 0.265625\n",
      "2.84729 0.296875\n",
      "3.04379 0.203125\n",
      "2.98902 0.234375\n",
      "2.7171 0.296875\n",
      "2.81365 0.265625\n",
      "2.42424 0.328125\n",
      "2.92962 0.265625\n",
      "2.8702 0.296875\n",
      "2.66674 0.3125\n",
      "2.71275 0.28125\n",
      "2.95356 0.25\n",
      "2.84993 0.21875\n",
      "2.91494 0.265625\n",
      "2.67636 0.296875\n",
      "2.49453 0.328125\n",
      "2.40108 0.34375\n",
      "3.02971 0.265625\n",
      "2.73501 0.296875\n",
      "2.4147 0.421875\n",
      "2.92673 0.234375\n",
      "2.4001 0.328125\n",
      "2.9192 0.25\n",
      "2.78539 0.265625\n",
      "2.86907 0.28125\n",
      "3.02893 0.25\n",
      "2.68458 0.296875\n",
      "2.36029 0.40625\n",
      "2.64948 0.328125\n",
      "2.50685 0.34375\n",
      "2.49523 0.328125\n",
      "2.37347 0.375\n",
      "2.66997 0.296875\n",
      "2.99401 0.265625\n",
      "2.68454 0.28125\n",
      "2.44106 0.34375\n",
      "2.66336 0.28125\n",
      "2.48612 0.34375\n",
      "2.4426 0.4375\n",
      "2.59058 0.359375\n",
      "2.74656 0.265625\n",
      "2.94231 0.234375\n",
      "2.81816 0.3125\n",
      "2.32847 0.484375\n",
      "2.43485 0.359375\n",
      "2.66776 0.328125\n",
      "2.57379 0.34375\n",
      "2.51979 0.390625\n",
      "3.02029 0.265625\n",
      "2.42063 0.375\n",
      "2.75639 0.25\n",
      "2.65561 0.3125\n",
      "2.6174 0.390625\n",
      "1.98987 0.515625\n",
      "2.80624 0.296875\n",
      "2.43495 0.40625\n"
     ]
    }
   ],
   "source": [
    "### Define your architecture here.\n",
    "### Feel free to use as many code cells as needed.\n",
    "\n",
    "def placeholders():\n",
    "    x = tf.placeholder(tf.float32, shape=[None, 32, 32, 3], name='x')\n",
    "    y = tf.placeholder(tf.int64, name='y') \n",
    "    return x, y\n",
    "\n",
    "def net(x):\n",
    "    \n",
    "    x = tf.layers.conv2d(x, 64, (5, 5), padding='same', activation=tf.nn.relu)\n",
    "    x = tf.layers.max_pooling2d(x, 2, 2, padding='same')\n",
    "    \n",
    "    x = tf.layers.conv2d(x, 128, (5, 5), padding='same', activation=tf.nn.relu)\n",
    "    x = tf.layers.max_pooling2d(x, 2, 2, padding='same')\n",
    "    \n",
    "    x = tf.layers.conv2d(x, 256, (5, 5), padding='same', activation=tf.nn.relu)\n",
    "    x = tf.layers.max_pooling2d(x, 2, 2, padding='same')\n",
    "    \n",
    "    x = tf.reshape(x, shape=(-1, 4*4*256))\n",
    "    \n",
    "    x = tf.layers.dense(x, 256, activation=tf.nn.relu)\n",
    "    x = tf.layers.dense(x, 256, activation=tf.nn.relu)\n",
    "    \n",
    "    logits = tf.layers.dense(x, n_classes, activation=tf.nn.relu)\n",
    "    return logits\n",
    "\n",
    "def losses(logits, y):\n",
    "    batch_losses = tf.nn.sparse_softmax_cross_entropy_with_logits(labels=y, logits=logits)\n",
    "    return tf.reduce_mean(batch_losses)\n",
    "\n",
    "def optimize(loss, lr=0.001, beta1=0.9, beta2=0.999):\n",
    "    return tf.train.AdamOptimizer(lr, beta1, beta2).minimize(loss)\n",
    "\n",
    "def accuracy(logits, y):\n",
    "    correct_pred = tf.equal(tf.argmax(logits, axis=1), y)\n",
    "    accuracy = tf.reduce_mean(tf.cast(correct_pred, tf.float32), name='accuracy')\n",
    "    return accuracy\n",
    "\n",
    "def model(lr):\n",
    "    x, y = placeholders()\n",
    "    logits = net(x)\n",
    "    loss = losses(logits, y)\n",
    "    train = optimize(loss, lr=lr)\n",
    "    acc = accuracy(logits, y)\n",
    "    \n",
    "    return namedtuple('Model', ' '.join(locals().keys()))(**locals())\n",
    "\n",
    "def get_batch(X, y, batch_size=64):\n",
    "    \n",
    "    idxs = np.arange(X.shape[0])\n",
    "    np.random.shuffle(idxs)\n",
    "    X, y = X[idxs], y[idxs]\n",
    "    \n",
    "    for i in range(len(X) // batch_size):\n",
    "        idx1, idx2 = i * batch_size, (i + 1) * batch_size\n",
    "        yield preprocess_images(X[idx1:idx2]), y[idx1:idx2]\n",
    "\n",
    "tf.reset_default_graph()\n",
    "m = model(lr=0.001)\n",
    "  \n",
    "n_epochs = 10\n",
    "with tf.Session() as sess:\n",
    "    sess.run(tf.global_variables_initializer())\n",
    "    for epoch in range(n_epochs):\n",
    "        for x, y in get_batch(X_train[:], y_train[:]):\n",
    "            cost1, accuracy1, _ = sess.run([m.loss, m.acc, m.train], feed_dict={ m.x: x, m.y: y })\n",
    "            print(cost1, accuracy1)\n",
    "        cost2, accuracy2 = sess.run([m.loss, m.acc], feed_dict={ m.x: X_valid[:500], m.y: y_valid[:500] })\n",
    "        print(cost1, accuracy1, accuracy2)"
   ]
  },
  {
   "cell_type": "markdown",
   "metadata": {
    "deletable": true,
    "editable": true
   },
   "source": [
    "### Train, Validate and Test the Model"
   ]
  },
  {
   "cell_type": "markdown",
   "metadata": {
    "deletable": true,
    "editable": true
   },
   "source": [
    "A validation set can be used to assess how well the model is performing. A low accuracy on the training and validation\n",
    "sets imply underfitting. A high accuracy on the training set but low accuracy on the validation set implies overfitting."
   ]
  },
  {
   "cell_type": "code",
   "execution_count": 262,
   "metadata": {
    "collapsed": false,
    "deletable": true,
    "editable": true
   },
   "outputs": [
    {
     "ename": "IndentationError",
     "evalue": "expected an indented block (<ipython-input-262-6f67d059299c>, line 8)",
     "output_type": "error",
     "traceback": [
      "\u001b[0;36m  File \u001b[0;32m\"<ipython-input-262-6f67d059299c>\"\u001b[0;36m, line \u001b[0;32m8\u001b[0m\n\u001b[0;31m    def loss(logits)\u001b[0m\n\u001b[0m      ^\u001b[0m\n\u001b[0;31mIndentationError\u001b[0m\u001b[0;31m:\u001b[0m expected an indented block\n"
     ]
    }
   ],
   "source": [
    "### Train your model here.\n",
    "### Calculate and report the accuracy on the training and validation set.\n",
    "### Once a final model architecture is selected, \n",
    "### the accuracy on the test set should be calculated and reported as well.\n",
    "### Feel free to use as many code cells as needed.\n",
    "\n",
    "with tf.Graph().as_default:\n",
    "    p"
   ]
  },
  {
   "cell_type": "markdown",
   "metadata": {
    "deletable": true,
    "editable": true
   },
   "source": [
    "---\n",
    "\n",
    "## Step 3: Test a Model on New Images\n",
    "\n",
    "To give yourself more insight into how your model is working, download at least five pictures of German traffic signs from the web and use your model to predict the traffic sign type.\n",
    "\n",
    "You may find `signnames.csv` useful as it contains mappings from the class id (integer) to the actual sign name."
   ]
  },
  {
   "cell_type": "markdown",
   "metadata": {
    "deletable": true,
    "editable": true
   },
   "source": [
    "### Load and Output the Images"
   ]
  },
  {
   "cell_type": "code",
   "execution_count": null,
   "metadata": {
    "collapsed": true,
    "deletable": true,
    "editable": true
   },
   "outputs": [],
   "source": [
    "### Load the images and plot them here.\n",
    "### Feel free to use as many code cells as needed."
   ]
  },
  {
   "cell_type": "markdown",
   "metadata": {
    "deletable": true,
    "editable": true
   },
   "source": [
    "### Predict the Sign Type for Each Image"
   ]
  },
  {
   "cell_type": "code",
   "execution_count": 3,
   "metadata": {
    "collapsed": true,
    "deletable": true,
    "editable": true
   },
   "outputs": [],
   "source": [
    "### Run the predictions here and use the model to output the prediction for each image.\n",
    "### Make sure to pre-process the images with the same pre-processing pipeline used earlier.\n",
    "### Feel free to use as many code cells as needed."
   ]
  },
  {
   "cell_type": "markdown",
   "metadata": {
    "deletable": true,
    "editable": true
   },
   "source": [
    "### Analyze Performance"
   ]
  },
  {
   "cell_type": "code",
   "execution_count": 4,
   "metadata": {
    "collapsed": true,
    "deletable": true,
    "editable": true
   },
   "outputs": [],
   "source": [
    "### Calculate the accuracy for these 5 new images. \n",
    "### For example, if the model predicted 1 out of 5 signs correctly, it's 20% accurate on these new images."
   ]
  },
  {
   "cell_type": "markdown",
   "metadata": {
    "deletable": true,
    "editable": true
   },
   "source": [
    "### Output Top 5 Softmax Probabilities For Each Image Found on the Web"
   ]
  },
  {
   "cell_type": "markdown",
   "metadata": {
    "deletable": true,
    "editable": true
   },
   "source": [
    "For each of the new images, print out the model's softmax probabilities to show the **certainty** of the model's predictions (limit the output to the top 5 probabilities for each image). [`tf.nn.top_k`](https://www.tensorflow.org/versions/r0.12/api_docs/python/nn.html#top_k) could prove helpful here. \n",
    "\n",
    "The example below demonstrates how tf.nn.top_k can be used to find the top k predictions for each image.\n",
    "\n",
    "`tf.nn.top_k` will return the values and indices (class ids) of the top k predictions. So if k=3, for each sign, it'll return the 3 largest probabilities (out of a possible 43) and the correspoding class ids.\n",
    "\n",
    "Take this numpy array as an example. The values in the array represent predictions. The array contains softmax probabilities for five candidate images with six possible classes. `tk.nn.top_k` is used to choose the three classes with the highest probability:\n",
    "\n",
    "```\n",
    "# (5, 6) array\n",
    "a = np.array([[ 0.24879643,  0.07032244,  0.12641572,  0.34763842,  0.07893497,\n",
    "         0.12789202],\n",
    "       [ 0.28086119,  0.27569815,  0.08594638,  0.0178669 ,  0.18063401,\n",
    "         0.15899337],\n",
    "       [ 0.26076848,  0.23664738,  0.08020603,  0.07001922,  0.1134371 ,\n",
    "         0.23892179],\n",
    "       [ 0.11943333,  0.29198961,  0.02605103,  0.26234032,  0.1351348 ,\n",
    "         0.16505091],\n",
    "       [ 0.09561176,  0.34396535,  0.0643941 ,  0.16240774,  0.24206137,\n",
    "         0.09155967]])\n",
    "```\n",
    "\n",
    "Running it through `sess.run(tf.nn.top_k(tf.constant(a), k=3))` produces:\n",
    "\n",
    "```\n",
    "TopKV2(values=array([[ 0.34763842,  0.24879643,  0.12789202],\n",
    "       [ 0.28086119,  0.27569815,  0.18063401],\n",
    "       [ 0.26076848,  0.23892179,  0.23664738],\n",
    "       [ 0.29198961,  0.26234032,  0.16505091],\n",
    "       [ 0.34396535,  0.24206137,  0.16240774]]), indices=array([[3, 0, 5],\n",
    "       [0, 1, 4],\n",
    "       [0, 5, 1],\n",
    "       [1, 3, 5],\n",
    "       [1, 4, 3]], dtype=int32))\n",
    "```\n",
    "\n",
    "Looking just at the first row we get `[ 0.34763842,  0.24879643,  0.12789202]`, you can confirm these are the 3 largest probabilities in `a`. You'll also notice `[3, 0, 5]` are the corresponding indices."
   ]
  },
  {
   "cell_type": "code",
   "execution_count": 3,
   "metadata": {
    "collapsed": true,
    "deletable": true,
    "editable": true
   },
   "outputs": [],
   "source": [
    "### Print out the top five softmax probabilities for the predictions on the German traffic sign images found on the web. \n",
    "### Feel free to use as many code cells as needed."
   ]
  },
  {
   "cell_type": "markdown",
   "metadata": {
    "deletable": true,
    "editable": true
   },
   "source": [
    "### Project Writeup\n",
    "\n",
    "Once you have completed the code implementation, document your results in a project writeup using this [template](https://github.com/udacity/CarND-Traffic-Sign-Classifier-Project/blob/master/writeup_template.md) as a guide. The writeup can be in a markdown or pdf file. "
   ]
  },
  {
   "cell_type": "markdown",
   "metadata": {
    "deletable": true,
    "editable": true
   },
   "source": [
    "> **Note**: Once you have completed all of the code implementations and successfully answered each question above, you may finalize your work by exporting the iPython Notebook as an HTML document. You can do this by using the menu above and navigating to  \\n\",\n",
    "    \"**File -> Download as -> HTML (.html)**. Include the finished document along with this notebook as your submission."
   ]
  },
  {
   "cell_type": "markdown",
   "metadata": {
    "deletable": true,
    "editable": true
   },
   "source": [
    "---\n",
    "\n",
    "## Step 4 (Optional): Visualize the Neural Network's State with Test Images\n",
    "\n",
    " This Section is not required to complete but acts as an additional excersise for understaning the output of a neural network's weights. While neural networks can be a great learning device they are often referred to as a black box. We can understand what the weights of a neural network look like better by plotting their feature maps. After successfully training your neural network you can see what it's feature maps look like by plotting the output of the network's weight layers in response to a test stimuli image. From these plotted feature maps, it's possible to see what characteristics of an image the network finds interesting. For a sign, maybe the inner network feature maps react with high activation to the sign's boundary outline or to the contrast in the sign's painted symbol.\n",
    "\n",
    " Provided for you below is the function code that allows you to get the visualization output of any tensorflow weight layer you want. The inputs to the function should be a stimuli image, one used during training or a new one you provided, and then the tensorflow variable name that represents the layer's state during the training process, for instance if you wanted to see what the [LeNet lab's](https://classroom.udacity.com/nanodegrees/nd013/parts/fbf77062-5703-404e-b60c-95b78b2f3f9e/modules/6df7ae49-c61c-4bb2-a23e-6527e69209ec/lessons/601ae704-1035-4287-8b11-e2c2716217ad/concepts/d4aca031-508f-4e0b-b493-e7b706120f81) feature maps looked like for it's second convolutional layer you could enter conv2 as the tf_activation variable.\n",
    "\n",
    "For an example of what feature map outputs look like, check out NVIDIA's results in their paper [End-to-End Deep Learning for Self-Driving Cars](https://devblogs.nvidia.com/parallelforall/deep-learning-self-driving-cars/) in the section Visualization of internal CNN State. NVIDIA was able to show that their network's inner weights had high activations to road boundary lines by comparing feature maps from an image with a clear path to one without. Try experimenting with a similar test to show that your trained network's weights are looking for interesting features, whether it's looking at differences in feature maps from images with or without a sign, or even what feature maps look like in a trained network vs a completely untrained one on the same sign image.\n",
    "\n",
    "<figure>\n",
    " <img src=\"visualize_cnn.png\" width=\"380\" alt=\"Combined Image\" />\n",
    " <figcaption>\n",
    " <p></p> \n",
    " <p style=\"text-align: center;\"> Your output should look something like this (above)</p> \n",
    " </figcaption>\n",
    "</figure>\n",
    " <p></p> \n"
   ]
  },
  {
   "cell_type": "code",
   "execution_count": null,
   "metadata": {
    "collapsed": true,
    "deletable": true,
    "editable": true
   },
   "outputs": [],
   "source": [
    "### Visualize your network's feature maps here.\n",
    "### Feel free to use as many code cells as needed.\n",
    "\n",
    "# image_input: the test image being fed into the network to produce the feature maps\n",
    "# tf_activation: should be a tf variable name used during your training procedure that represents the calculated state of a specific weight layer\n",
    "# activation_min/max: can be used to view the activation contrast in more detail, by default matplot sets min and max to the actual min and max values of the output\n",
    "# plt_num: used to plot out multiple different weight feature map sets on the same block, just extend the plt number for each new feature map entry\n",
    "\n",
    "def outputFeatureMap(image_input, tf_activation, activation_min=-1, activation_max=-1 ,plt_num=1):\n",
    "    # Here make sure to preprocess your image_input in a way your network expects\n",
    "    # with size, normalization, ect if needed\n",
    "    # image_input =\n",
    "    # Note: x should be the same name as your network's tensorflow data placeholder variable\n",
    "    # If you get an error tf_activation is not defined it may be having trouble accessing the variable from inside a function\n",
    "    activation = tf_activation.eval(session=sess,feed_dict={x : image_input})\n",
    "    featuremaps = activation.shape[3]\n",
    "    plt.figure(plt_num, figsize=(15,15))\n",
    "    for featuremap in range(featuremaps):\n",
    "        plt.subplot(6,8, featuremap+1) # sets the number of feature maps to show on each row and column\n",
    "        plt.title('FeatureMap ' + str(featuremap)) # displays the feature map number\n",
    "        if activation_min != -1 & activation_max != -1:\n",
    "            plt.imshow(activation[0,:,:, featuremap], interpolation=\"nearest\", vmin =activation_min, vmax=activation_max, cmap=\"gray\")\n",
    "        elif activation_max != -1:\n",
    "            plt.imshow(activation[0,:,:, featuremap], interpolation=\"nearest\", vmax=activation_max, cmap=\"gray\")\n",
    "        elif activation_min !=-1:\n",
    "            plt.imshow(activation[0,:,:, featuremap], interpolation=\"nearest\", vmin=activation_min, cmap=\"gray\")\n",
    "        else:\n",
    "            plt.imshow(activation[0,:,:, featuremap], interpolation=\"nearest\", cmap=\"gray\")"
   ]
  }
 ],
 "metadata": {
  "anaconda-cloud": {},
  "kernelspec": {
   "display_name": "Python 3",
   "language": "python",
   "name": "python3"
  },
  "language_info": {
   "codemirror_mode": {
    "name": "ipython",
    "version": 3
   },
   "file_extension": ".py",
   "mimetype": "text/x-python",
   "name": "python",
   "nbconvert_exporter": "python",
   "pygments_lexer": "ipython3",
   "version": "3.6.1"
  }
 },
 "nbformat": 4,
 "nbformat_minor": 1
}
